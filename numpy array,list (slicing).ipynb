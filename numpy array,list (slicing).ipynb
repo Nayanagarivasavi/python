{
 "cells": [
  {
   "cell_type": "code",
   "execution_count": null,
   "id": "72bea41d",
   "metadata": {},
   "outputs": [],
   "source": [
    "Why numpy?\n",
    "-memory\n",
    "-functionality\n",
    "-performance"
   ]
  },
  {
   "cell_type": "code",
   "execution_count": 2,
   "id": "9d87a32c",
   "metadata": {},
   "outputs": [
    {
     "name": "stdout",
     "output_type": "stream",
     "text": [
      "size of each element of list in bytes: 136\n",
      "size of the whole list in bytes: 1360\n"
     ]
    }
   ],
   "source": [
    "import numpy as np\n",
    "import sys\n",
    "#declaring a list of 10 elements\n",
    "s=[0,1,2,3,4,5,6,7,8,9]\n",
    "print(\"size of each element of list in bytes:\",sys.getsizeof(s))\n",
    "print(\"size of the whole list in bytes:\",sys.getsizeof(s)*len(s))"
   ]
  },
  {
   "cell_type": "code",
   "execution_count": 3,
   "id": "6a97edcd",
   "metadata": {},
   "outputs": [
    {
     "name": "stdout",
     "output_type": "stream",
     "text": [
      "size of each element of the numpy array in bytes: 4\n",
      "size of the whole numpy array in bytes: 40\n"
     ]
    }
   ],
   "source": [
    "#declaring a numpy array of 10 elements\n",
    "d=np.array([0,1,2,3,4,5,6,7,8,9])\n",
    "print(\"size of each element of the numpy array in bytes:\",d.itemsize)\n",
    "print(\"size of the whole numpy array in bytes:\",d.size*d.itemsize)"
   ]
  },
  {
   "cell_type": "code",
   "execution_count": 4,
   "id": "8ba9c9ec",
   "metadata": {},
   "outputs": [],
   "source": [
    "import numpy as np\n",
    "import time\n",
    "#size of arrays and lists\n",
    "size=10000000"
   ]
  },
  {
   "cell_type": "code",
   "execution_count": 5,
   "id": "ae816dde",
   "metadata": {},
   "outputs": [],
   "source": [
    "#declaring lists\n",
    "list1=range(size)\n",
    "list2=range(size)"
   ]
  },
  {
   "cell_type": "code",
   "execution_count": 6,
   "id": "26c7e119",
   "metadata": {},
   "outputs": [],
   "source": [
    "#declaring arrays\n",
    "array1=np.arange(size)\n",
    "array2=np.arange(size)"
   ]
  },
  {
   "cell_type": "code",
   "execution_count": 7,
   "id": "bd35c061",
   "metadata": {},
   "outputs": [],
   "source": [
    "#capturing time before the multiplication  of python lists\n",
    "initialTime=time.time()"
   ]
  },
  {
   "cell_type": "code",
   "execution_count": 8,
   "id": "4bbf78ee",
   "metadata": {},
   "outputs": [],
   "source": [
    "#multiplying elements of both the lists and stored in another list\n",
    "resultantList=[(a * b) for a,b in zip(list1,list2)]"
   ]
  },
  {
   "cell_type": "code",
   "execution_count": 9,
   "id": "81ba0d9f",
   "metadata": {},
   "outputs": [
    {
     "name": "stdout",
     "output_type": "stream",
     "text": [
      "time taken by list to perform multiplication: 20496.819734573364 milliseconds\n"
     ]
    }
   ],
   "source": [
    "#calculating execution time\n",
    "print(\"time taken by list to perform multiplication:\",(time.time()-initialTime)*1000,\"milliseconds\")"
   ]
  },
  {
   "cell_type": "code",
   "execution_count": 10,
   "id": "7ea1376a",
   "metadata": {},
   "outputs": [],
   "source": [
    "#capturing time before the multiplication  of numpy arrays\n",
    "initialTime=time.time()"
   ]
  },
  {
   "cell_type": "code",
   "execution_count": 11,
   "id": "c930d024",
   "metadata": {},
   "outputs": [],
   "source": [
    "#multiplying elements of both the numpy arrays and stored in another numpy array\n",
    "resultantArray=array1*array2"
   ]
  },
  {
   "cell_type": "code",
   "execution_count": 12,
   "id": "858f91fd",
   "metadata": {},
   "outputs": [
    {
     "name": "stdout",
     "output_type": "stream",
     "text": [
      "time taken by numpy arrays to perform multiplication: 24625.741004943848 milliseconds\n"
     ]
    }
   ],
   "source": [
    "#calculating execution time\n",
    "print(\"time taken by numpy arrays to perform multiplication:\",(time.time()-initialTime)*1000,\"milliseconds\")"
   ]
  },
  {
   "cell_type": "code",
   "execution_count": 13,
   "id": "2b337a60",
   "metadata": {},
   "outputs": [
    {
     "data": {
      "text/plain": [
       "array([1., 1., 1.])"
      ]
     },
     "execution_count": 13,
     "metadata": {},
     "output_type": "execute_result"
    }
   ],
   "source": [
    "np.ones(3)"
   ]
  },
  {
   "cell_type": "code",
   "execution_count": 14,
   "id": "dde00421",
   "metadata": {},
   "outputs": [
    {
     "data": {
      "text/plain": [
       "array([0., 0., 0.])"
      ]
     },
     "execution_count": 14,
     "metadata": {},
     "output_type": "execute_result"
    }
   ],
   "source": [
    "np.zeros(3)"
   ]
  },
  {
   "cell_type": "code",
   "execution_count": 15,
   "id": "534cd9cd",
   "metadata": {},
   "outputs": [
    {
     "data": {
      "text/plain": [
       "array([0.62928058, 0.78218523, 0.00512871])"
      ]
     },
     "execution_count": 15,
     "metadata": {},
     "output_type": "execute_result"
    }
   ],
   "source": [
    "np.random.random(3)"
   ]
  },
  {
   "cell_type": "code",
   "execution_count": 16,
   "id": "e8e069c0",
   "metadata": {},
   "outputs": [
    {
     "data": {
      "text/plain": [
       "array([0.06978726, 0.13685424, 0.59902628, 0.36070516])"
      ]
     },
     "execution_count": 16,
     "metadata": {},
     "output_type": "execute_result"
    }
   ],
   "source": [
    "np.random.random(4)"
   ]
  },
  {
   "cell_type": "code",
   "execution_count": 17,
   "id": "fe3c7072",
   "metadata": {},
   "outputs": [
    {
     "data": {
      "text/plain": [
       "array([1., 1., 1., 1., 1., 1.])"
      ]
     },
     "execution_count": 17,
     "metadata": {},
     "output_type": "execute_result"
    }
   ],
   "source": [
    "np.ones(6)"
   ]
  },
  {
   "cell_type": "code",
   "execution_count": 18,
   "id": "03071df1",
   "metadata": {},
   "outputs": [],
   "source": [
    "#Indexcing and slicing"
   ]
  },
  {
   "cell_type": "code",
   "execution_count": 19,
   "id": "61076619",
   "metadata": {},
   "outputs": [],
   "source": [
    "data=(1,2,3)\n"
   ]
  },
  {
   "cell_type": "code",
   "execution_count": 20,
   "id": "2d35034c",
   "metadata": {},
   "outputs": [
    {
     "data": {
      "text/plain": [
       "1"
      ]
     },
     "execution_count": 20,
     "metadata": {},
     "output_type": "execute_result"
    }
   ],
   "source": [
    "data[0]"
   ]
  },
  {
   "cell_type": "code",
   "execution_count": 21,
   "id": "39994fbf",
   "metadata": {},
   "outputs": [
    {
     "data": {
      "text/plain": [
       "2"
      ]
     },
     "execution_count": 21,
     "metadata": {},
     "output_type": "execute_result"
    }
   ],
   "source": [
    "data[1]"
   ]
  },
  {
   "cell_type": "code",
   "execution_count": 22,
   "id": "b4380f08",
   "metadata": {},
   "outputs": [
    {
     "data": {
      "text/plain": [
       "(1, 2)"
      ]
     },
     "execution_count": 22,
     "metadata": {},
     "output_type": "execute_result"
    }
   ],
   "source": [
    "data[0:2]"
   ]
  },
  {
   "cell_type": "code",
   "execution_count": 23,
   "id": "ce335dd0",
   "metadata": {},
   "outputs": [
    {
     "data": {
      "text/plain": [
       "(2, 3)"
      ]
     },
     "execution_count": 23,
     "metadata": {},
     "output_type": "execute_result"
    }
   ],
   "source": [
    "data[1:]"
   ]
  },
  {
   "cell_type": "code",
   "execution_count": 24,
   "id": "5b0df3f8",
   "metadata": {},
   "outputs": [],
   "source": [
    "data=np.array([[1,2],\n",
    "              [3,4],\n",
    "            [5,6]])\n"
   ]
  },
  {
   "cell_type": "code",
   "execution_count": 25,
   "id": "cae7c259",
   "metadata": {},
   "outputs": [
    {
     "data": {
      "text/plain": [
       "2"
      ]
     },
     "execution_count": 25,
     "metadata": {},
     "output_type": "execute_result"
    }
   ],
   "source": [
    "data[0,1]"
   ]
  },
  {
   "cell_type": "code",
   "execution_count": 26,
   "id": "0cb5f89d",
   "metadata": {},
   "outputs": [
    {
     "data": {
      "text/plain": [
       "array([[3, 4],\n",
       "       [5, 6]])"
      ]
     },
     "execution_count": 26,
     "metadata": {},
     "output_type": "execute_result"
    }
   ],
   "source": [
    "data[1:3]"
   ]
  },
  {
   "cell_type": "code",
   "execution_count": 27,
   "id": "39574153",
   "metadata": {},
   "outputs": [
    {
     "data": {
      "text/plain": [
       "array([1, 3])"
      ]
     },
     "execution_count": 27,
     "metadata": {},
     "output_type": "execute_result"
    }
   ],
   "source": [
    "data[0:2,0]"
   ]
  },
  {
   "cell_type": "code",
   "execution_count": 28,
   "id": "5086a303",
   "metadata": {},
   "outputs": [
    {
     "data": {
      "text/plain": [
       "6"
      ]
     },
     "execution_count": 28,
     "metadata": {},
     "output_type": "execute_result"
    }
   ],
   "source": [
    "data[2,1]"
   ]
  },
  {
   "cell_type": "code",
   "execution_count": 29,
   "id": "0d5d623d",
   "metadata": {},
   "outputs": [
    {
     "data": {
      "text/plain": [
       "array([4, 6])"
      ]
     },
     "execution_count": 29,
     "metadata": {},
     "output_type": "execute_result"
    }
   ],
   "source": [
    "data[1:3,1]"
   ]
  },
  {
   "cell_type": "code",
   "execution_count": 30,
   "id": "fb5105cf",
   "metadata": {},
   "outputs": [
    {
     "data": {
      "text/plain": [
       "1"
      ]
     },
     "execution_count": 30,
     "metadata": {},
     "output_type": "execute_result"
    }
   ],
   "source": [
    "data[0,0]"
   ]
  },
  {
   "cell_type": "code",
   "execution_count": 31,
   "id": "46c8f9ed",
   "metadata": {},
   "outputs": [
    {
     "data": {
      "text/plain": [
       "4"
      ]
     },
     "execution_count": 31,
     "metadata": {},
     "output_type": "execute_result"
    }
   ],
   "source": [
    "data[1,1]"
   ]
  },
  {
   "cell_type": "code",
   "execution_count": 32,
   "id": "eccec33a",
   "metadata": {},
   "outputs": [
    {
     "name": "stdout",
     "output_type": "stream",
     "text": [
      "[[[ 1  2]\n",
      "  [ 3  4]\n",
      "  [ 5  6]]\n",
      "\n",
      " [[ 7  8]\n",
      "  [ 9 10]\n",
      "  [11 12]]\n",
      "\n",
      " [[13 14]\n",
      "  [15 16]\n",
      "  [17 18]]]\n"
     ]
    }
   ],
   "source": [
    "#slicing 3d array\n",
    "a=np.array([[[1,2],[3,4],[5,6]],\n",
    "           [[7,8],[9,10],[11,12]],\n",
    "           [[13,14],[15,16],[17,18]]])\n",
    "print(a)"
   ]
  },
  {
   "cell_type": "code",
   "execution_count": 33,
   "id": "1608509c",
   "metadata": {},
   "outputs": [
    {
     "name": "stdout",
     "output_type": "stream",
     "text": [
      "[[[ 1  2]\n",
      "  [ 3  4]\n",
      "  [ 5  6]]\n",
      "\n",
      " [[ 7  8]\n",
      "  [ 9 10]\n",
      "  [11 12]]]\n"
     ]
    }
   ],
   "source": [
    "print(a[0:2])"
   ]
  },
  {
   "cell_type": "code",
   "execution_count": 34,
   "id": "a6b33437",
   "metadata": {},
   "outputs": [
    {
     "name": "stdout",
     "output_type": "stream",
     "text": [
      "[[[ 3  4]\n",
      "  [ 5  6]]\n",
      "\n",
      " [[ 9 10]\n",
      "  [11 12]]]\n"
     ]
    }
   ],
   "source": [
    "print(a[0:2,1:])"
   ]
  },
  {
   "cell_type": "code",
   "execution_count": 35,
   "id": "25c23a09",
   "metadata": {},
   "outputs": [
    {
     "name": "stdout",
     "output_type": "stream",
     "text": [
      "[[[ 4]\n",
      "  [ 6]]\n",
      "\n",
      " [[10]\n",
      "  [12]]]\n"
     ]
    }
   ],
   "source": [
    "print(a[0:2,1:,1:])"
   ]
  },
  {
   "cell_type": "code",
   "execution_count": null,
   "id": "263170f6",
   "metadata": {},
   "outputs": [],
   "source": []
  }
 ],
 "metadata": {
  "kernelspec": {
   "display_name": "Python 3 (ipykernel)",
   "language": "python",
   "name": "python3"
  },
  "language_info": {
   "codemirror_mode": {
    "name": "ipython",
    "version": 3
   },
   "file_extension": ".py",
   "mimetype": "text/x-python",
   "name": "python",
   "nbconvert_exporter": "python",
   "pygments_lexer": "ipython3",
   "version": "3.10.9"
  }
 },
 "nbformat": 4,
 "nbformat_minor": 5
}
